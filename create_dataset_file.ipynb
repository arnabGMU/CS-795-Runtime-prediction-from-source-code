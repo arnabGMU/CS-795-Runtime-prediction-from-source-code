{
 "cells": [
  {
   "cell_type": "code",
   "execution_count": 1,
   "metadata": {},
   "outputs": [],
   "source": [
    "import os\n",
    "import sys\n",
    "import numpy as np"
   ]
  },
  {
   "cell_type": "code",
   "execution_count": 41,
   "metadata": {},
   "outputs": [],
   "source": [
    "im_to_project = {}\n",
    "file_name = 'im-datasets_to_project_folder.txt'\n",
    "project_folder_path = '../projects/'\n",
    "for line in open(file_name, 'r').readlines()[1:]:\n",
    "    row = line.strip().split(\",\")\n",
    "    im_to_project[row[0]] = f'{project_folder_path}{row[1].strip()}'"
   ]
  },
  {
   "cell_type": "code",
   "execution_count": 42,
   "metadata": {},
   "outputs": [],
   "source": [
    "im_dataset_folders_path = './im-datasets/combined-exp-results'\n",
    "im_dataset_folders = os.listdir(im_dataset_folders_path)"
   ]
  },
  {
   "cell_type": "code",
   "execution_count": 48,
   "metadata": {},
   "outputs": [],
   "source": [
    "duplicate = []\n",
    "dataset = []\n",
    "a = []\n",
    "\n",
    "output_file = open('dataset.txt', 'w')\n",
    "output_file.write('TestClass, runtime\\n')\n",
    "\n",
    "for folder in im_dataset_folders:\n",
    "    path = os.path.join(im_dataset_folders_path, f'{folder}')\n",
    "    path = os.path.join(path, f'{os.listdir(path)[0]}/CI/Multi-JVM.csv')\n",
    "    \n",
    "    if folder not in im_to_project:\n",
    "        continue\n",
    "    project_folder = im_to_project[folder]\n",
    "    \n",
    "    multi_jvm_file = open(path, 'r')\n",
    "    for line in multi_jvm_file.readlines()[1:]:\n",
    "        row = line.split(',')\n",
    "        \n",
    "        test_class = '/'.join(row[0].split('.'))\n",
    "        module = row[1]\n",
    "        runtime = float(row[4])+float(row[5])+float(row[6])\n",
    "        \n",
    "        dataset_row = f'{project_folder}/{module}/src/test/java/{test_class}.java, {runtime}\\n'\n",
    "        output_file.write(dataset_row)\n",
    "output_file.close()"
   ]
  }
 ],
 "metadata": {
  "kernelspec": {
   "display_name": "Python 3 (ipykernel)",
   "language": "python",
   "name": "python3"
  },
  "language_info": {
   "codemirror_mode": {
    "name": "ipython",
    "version": 3
   },
   "file_extension": ".py",
   "mimetype": "text/x-python",
   "name": "python",
   "nbconvert_exporter": "python",
   "pygments_lexer": "ipython3",
   "version": "3.6.13"
  }
 },
 "nbformat": 4,
 "nbformat_minor": 2
}
